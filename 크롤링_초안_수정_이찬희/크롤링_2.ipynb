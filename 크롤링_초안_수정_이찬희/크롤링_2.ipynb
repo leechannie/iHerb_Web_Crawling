{
 "cells": [
  {
   "cell_type": "code",
   "execution_count": 16,
   "metadata": {},
   "outputs": [
    {
     "name": "stdout",
     "output_type": "stream",
     "text": [
      "Collecting selenium\n",
      "  Downloading selenium-3.141.0-py2.py3-none-any.whl (904 kB)\n",
      "Requirement already satisfied: urllib3 in c:\\programdata\\anaconda3\\lib\\site-packages (from selenium) (1.24.1)\n",
      "Installing collected packages: selenium\n",
      "Successfully installed selenium-3.141.0\n"
     ]
    },
    {
     "name": "stderr",
     "output_type": "stream",
     "text": [
      "WARNING: Ignoring invalid distribution -pype1 (c:\\programdata\\anaconda3\\lib\\site-packages)\n",
      "WARNING: Ignoring invalid distribution -pype1 (c:\\programdata\\anaconda3\\lib\\site-packages)\n",
      "WARNING: Ignoring invalid distribution -pype1 (c:\\programdata\\anaconda3\\lib\\site-packages)\n",
      "WARNING: Ignoring invalid distribution -pype1 (c:\\programdata\\anaconda3\\lib\\site-packages)\n",
      "WARNING: Ignoring invalid distribution -pype1 (c:\\programdata\\anaconda3\\lib\\site-packages)\n",
      "WARNING: Ignoring invalid distribution -pype1 (c:\\programdata\\anaconda3\\lib\\site-packages)\n",
      "WARNING: Ignoring invalid distribution -pype1 (c:\\programdata\\anaconda3\\lib\\site-packages)\n",
      "WARNING: You are using pip version 21.1.1; however, version 21.1.2 is available.\n",
      "You should consider upgrading via the 'c:\\programdata\\anaconda3\\python.exe -m pip install --upgrade pip' command.\n"
     ]
    }
   ],
   "source": [
    "# ! pip install selenium"
   ]
  },
  {
   "cell_type": "code",
   "execution_count": 1,
   "metadata": {},
   "outputs": [],
   "source": [
    "from datetime import datetime\n",
    "from selenium import webdriver\n",
    "import time"
   ]
  },
  {
   "cell_type": "code",
   "execution_count": 2,
   "metadata": {},
   "outputs": [
    {
     "name": "stdout",
     "output_type": "stream",
     "text": [
      "['https://kr.iherb.com/pr/California-Gold-Nutrition-Omega-800-Pharmaceutical-Grade-Fish-Oil-80-EPA-DHA-Triglyceride-Form-1000-mg-90-Fish-Gelatin-Softgels/85180\\n', 'https://kr.iherb.com/pr/California-Gold-Nutrition-Omega-800-Pharmaceutical-Grade-Fish-Oil-80-EPA-DHA-1-000-mg-30-Fish-Gelatin-Softgels/82845\\n', 'https://kr.iherb.com/pr/California-Gold-Nutrition-LactoBif-Probiotics-30-Billion-CFU-60-Veggie-Capsules/64009?rec=iherbtest-home\\n', 'https://kr.iherb.com/pr/PEAKfresh-USA-Produce-Bags-with-Twist-Ties-Reusable-10-Bags/44160\\n', 'https://kr.iherb.com/pr/California-Gold-Nutrition-Gold-C-Powder-Vitamin-C-1-000-mg-8-81-oz-250-g/59561\\n', 'https://kr.iherb.com/pr/Kosette-Sanitizer-Wipes-Alcohol-Free-20-Wipes/103742']\n"
     ]
    }
   ],
   "source": [
    "# url을 담은 txt 파일 읽어오기 \n",
    "with open('C:/Users/이찬희/python2021/url.txt', 'rt', encoding='UTF8') as file:\n",
    "    content = list()\n",
    "\n",
    "    while True:\n",
    "        sentence = file.readline()\n",
    "\n",
    "        if sentence:\n",
    "            content.append(sentence)\n",
    "        else:\n",
    "            break\n",
    "            \n",
    "    print(content)"
   ]
  },
  {
   "cell_type": "code",
   "execution_count": 3,
   "metadata": {},
   "outputs": [],
   "source": [
    "# 브라우저 없이 selenium 사용 \n",
    "webdriver_options = webdriver.ChromeOptions()\n",
    "webdriver_options .add_argument('headless')\n",
    "\n",
    "# selenium에서 사용할 웹 드라이버 절대 경로 정보\n",
    "chromedriver = 'C:/Users/이찬희/python2021/chromedriver.exe'"
   ]
  },
  {
   "cell_type": "code",
   "execution_count": 4,
   "metadata": {},
   "outputs": [],
   "source": [
    "# selenum의 webdriver에 앞서 설치한 chromedirver를 연동한다.\n",
    "driver = list()\n",
    "for i in (content):\n",
    "    i = webdriver.Chrome(chromedriver, options = webdriver_options )\n",
    "    driver.append(i)"
   ]
  },
  {
   "cell_type": "code",
   "execution_count": 5,
   "metadata": {},
   "outputs": [],
   "source": [
    "# driver로 특정 페이지를 연다.\n",
    "for i in  range (len(content)):\n",
    "    driver[i].get(content[i])"
   ]
  },
  {
   "cell_type": "code",
   "execution_count": 6,
   "metadata": {},
   "outputs": [],
   "source": [
    "# 해당 페이지의 상태를 가져온다. \n",
    "locate= '#stock-status > div.text-danger.stock-status-text'\n",
    "\n",
    "# 상품의 고유번호을 가져온다. \n",
    "n_locate = '#product-specs-list > li:nth-child(4) > span'\n",
    "\n",
    "# 상품의 full name\n",
    "f_locate = '#name'"
   ]
  },
  {
   "cell_type": "code",
   "execution_count": 7,
   "metadata": {},
   "outputs": [
    {
     "name": "stdout",
     "output_type": "stream",
     "text": [
      "['898220012664', '898220012510', 'CGN-00965', '892453002003', 'CGN-00935', 'IMI-21029']\n",
      "['California Gold Nutrition, Omega 800 제약 등급 피쉬 오일, EPA/DHA 80%, 트라이글리세라이드 형태, 1,000mg, 피쉬 젤라틴 소프트젤 90정', 'California Gold Nutrition, Omega 800 제약 등급 피쉬 오일, EPA/DHA 80%, 1,000mg, 피쉬 젤라틴 소프트젤 30정', 'California Gold Nutrition, LactoBif 프로바이오틱, 300억 CFU, 베지 캡슐 60정', 'PEAKfresh USA, 신선식품 보관백(묶는 끈 포함), 재사용 가능, 10개', 'California Gold Nutrition, Gold C 파우더, 비타민C, 1,000mg, 250g(8.81oz)', 'Kosette, 손소독 티슈, 알코올 무함유, 20개입']\n"
     ]
    }
   ],
   "source": [
    "name_list = list()\n",
    "full_list = list()\n",
    "for i in driver:\n",
    "    name_list.append(i.find_element_by_css_selector(n_locate).text)\n",
    "    full_list.append(i.find_element_by_css_selector(f_locate).text)\n",
    "\n",
    "print(name_list)\n",
    "print(full_list)"
   ]
  },
  {
   "cell_type": "code",
   "execution_count": 8,
   "metadata": {},
   "outputs": [],
   "source": [
    "import openpyxl\n",
    "from openpyxl.styles import PatternFill, Color\n",
    "\n",
    "# 워크북(엑셀파일)을 새로 만듭니다.\n",
    "wb = openpyxl.Workbook()\n",
    "\n",
    "# 1번 시트 설정\n",
    "sheet1 = wb['Sheet']\n",
    "sheet1.title = name_list[0] # 시트 name을 고유 번호로 설정하기 \n",
    "sheet1.append([\"날짜\", \"시간\", \"재고여부\"]) # 헤더 추가하기\n",
    "sheet1.cell(row=1, column=4).value = full_list[0] # (D,1)에 이름 추가  \n",
    "sheet1.column_dimensions['D'].width = 90\n",
    "sheet1.column_dimensions['A'].width = 15\n",
    "sheet1.cell(row=1, column=5).value = content[0] #(F,1)에 해당 상품 url 추가 \n",
    "\n",
    "# 1번 제외 나머지 시트 설정 \n",
    "for i in range (1, len(name_list)):\n",
    "    sheeti = wb.create_sheet(name_list[i])\n",
    "\n",
    "    sheeti.append([\"날짜\", \"시간\", \"재고여부\"])\n",
    "    sheeti.cell(row=1, column=4).value = full_list[i]\n",
    "    sheeti.column_dimensions['D'].width = 90\n",
    "    sheeti.column_dimensions['A'].width = 15\n",
    "    sheeti.cell(row=1, column=5).value = content[i]\n",
    "\n",
    "wb.save('재고확인.xlsx')"
   ]
  },
  {
   "cell_type": "code",
   "execution_count": 9,
   "metadata": {},
   "outputs": [
    {
     "name": "stdout",
     "output_type": "stream",
     "text": [
      "Error\n"
     ]
    }
   ],
   "source": [
    "wb = openpyxl.load_workbook('재고확인.xlsx')\n",
    "status_list = list()\n",
    "num = 0\n",
    "count = 0\n",
    "\n",
    "while True:  \n",
    "    try: \n",
    "        now = datetime.now()\n",
    "        date = \"%s년 %s월 %s일\" %(now.year, now.month, now.day)\n",
    "        hour = \"%s시 %s분\" %(now.hour, now.minute)\n",
    "\n",
    "        #상품의 재고 상황을 가져온다. \n",
    "        for i in driver:\n",
    "            try:\n",
    "                status_list.append(i.find_element_by_css_selector(locate).text)\n",
    "\n",
    "            except:\n",
    "                status_list.append('재고 있음')\n",
    "\n",
    "        #각 시트에 시간과 상태를 저장한다.\n",
    "        for i in range (len (name_list)):\n",
    "            if (status_list[num] == '품절'):\n",
    "                sheeti = wb[name_list[i]]\n",
    "                sheeti.append([date, hour, status_list[num]])\n",
    "                sheeti.cell(row = count+2, column = 3).fill = PatternFill(start_color='00FF0000', end_color='00FF0000', fill_type='solid')\n",
    "                num += 1 # 새로 저장한 상태로 업데이트 \n",
    "\n",
    "            elif (status_list[num] == '재고 있음'):\n",
    "                sheeti = wb[name_list[i]]\n",
    "                sheeti.append([date, hour, status_list[num]])\n",
    "                sheeti.cell(row = count+2, column = 3).fill = PatternFill(start_color='0099CC00', end_color='0099CC00', fill_type='solid')\n",
    "                num += 1 # 새로 저장한 상태로 업데이트 \n",
    "        \n",
    "        #1분마다 정보를 갱신한다. \n",
    "        time.sleep(59) \n",
    "\n",
    "        #파일에 저장한다. \n",
    "        wb.save('재고확인.xlsx') \n",
    "        count += 1 # 각 시트 셀의 num\n",
    "              \n",
    "    except:\n",
    "        print(\"Error\")\n",
    "        break"
   ]
  },
  {
   "cell_type": "code",
   "execution_count": null,
   "metadata": {},
   "outputs": [],
   "source": []
  }
 ],
 "metadata": {
  "kernelspec": {
   "display_name": "Python 3",
   "language": "python",
   "name": "python3"
  },
  "language_info": {
   "codemirror_mode": {
    "name": "ipython",
    "version": 3
   },
   "file_extension": ".py",
   "mimetype": "text/x-python",
   "name": "python",
   "nbconvert_exporter": "python",
   "pygments_lexer": "ipython3",
   "version": "3.7.1"
  }
 },
 "nbformat": 4,
 "nbformat_minor": 2
}
