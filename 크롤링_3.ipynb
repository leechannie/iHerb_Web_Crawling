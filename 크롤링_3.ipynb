{
 "cells": [
  {
   "cell_type": "code",
   "execution_count": 16,
   "metadata": {},
   "outputs": [
    {
     "name": "stdout",
     "output_type": "stream",
     "text": [
      "Collecting selenium\n",
      "  Downloading selenium-3.141.0-py2.py3-none-any.whl (904 kB)\n",
      "Requirement already satisfied: urllib3 in c:\\programdata\\anaconda3\\lib\\site-packages (from selenium) (1.24.1)\n",
      "Installing collected packages: selenium\n",
      "Successfully installed selenium-3.141.0\n"
     ]
    },
    {
     "name": "stderr",
     "output_type": "stream",
     "text": [
      "WARNING: Ignoring invalid distribution -pype1 (c:\\programdata\\anaconda3\\lib\\site-packages)\n",
      "WARNING: Ignoring invalid distribution -pype1 (c:\\programdata\\anaconda3\\lib\\site-packages)\n",
      "WARNING: Ignoring invalid distribution -pype1 (c:\\programdata\\anaconda3\\lib\\site-packages)\n",
      "WARNING: Ignoring invalid distribution -pype1 (c:\\programdata\\anaconda3\\lib\\site-packages)\n",
      "WARNING: Ignoring invalid distribution -pype1 (c:\\programdata\\anaconda3\\lib\\site-packages)\n",
      "WARNING: Ignoring invalid distribution -pype1 (c:\\programdata\\anaconda3\\lib\\site-packages)\n",
      "WARNING: Ignoring invalid distribution -pype1 (c:\\programdata\\anaconda3\\lib\\site-packages)\n",
      "WARNING: You are using pip version 21.1.1; however, version 21.1.2 is available.\n",
      "You should consider upgrading via the 'c:\\programdata\\anaconda3\\python.exe -m pip install --upgrade pip' command.\n"
     ]
    }
   ],
   "source": [
    "# ! pip install selenium"
   ]
  },
  {
   "cell_type": "code",
   "execution_count": 1,
   "metadata": {},
   "outputs": [],
   "source": [
    "import time\n",
    "import openpyxl\n",
    "from openpyxl.styles import PatternFill, Color\n",
    "from datetime import datetime\n",
    "from selenium import webdriver"
   ]
  },
  {
   "cell_type": "code",
   "execution_count": 2,
   "metadata": {},
   "outputs": [],
   "source": [
    "# 브라우저 없이 selenium 사용 \n",
    "webdriver_options = webdriver.ChromeOptions()\n",
    "webdriver_options .add_argument('headless')\n",
    "\n",
    "# selenium에서 사용할 웹 드라이버 절대 경로 정보\n",
    "chromedriver = 'C:/Users/이찬희/python2021/chromedriver.exe'\n",
    "\n",
    "# 해당 페이지의 상태를 가져온다. \n",
    "locate= '#stock-status > div.text-danger.stock-status-text'\n",
    "\n",
    "# 상품의 고유번호을 가져온다. \n",
    "n_locate = '#product-specs-list > li:nth-child(4) > span'\n",
    "\n",
    "# 엑셀의 row를 위한 변수\n",
    "count = 1"
   ]
  },
  {
   "cell_type": "code",
   "execution_count": 3,
   "metadata": {},
   "outputs": [],
   "source": [
    "# url을 담은 txt 파일 읽어오기 \n",
    "def open_url():\n",
    "    start = time.time()\n",
    "    with open('C:/Users/이찬희/python2021/url.txt', 'rt', encoding='UTF8') as file:\n",
    "        content = list()\n",
    "\n",
    "        while True:\n",
    "            sentence = file.readline()\n",
    "\n",
    "            if sentence:\n",
    "                content.append(sentence)\n",
    "            else:\n",
    "                break\n",
    "        print(\"time :\", time.time() - start)\n",
    "        return (content)"
   ]
  },
  {
   "cell_type": "code",
   "execution_count": 4,
   "metadata": {},
   "outputs": [
    {
     "name": "stdout",
     "output_type": "stream",
     "text": [
      "time : 0.0019922256469726562\n"
     ]
    },
    {
     "data": {
      "text/plain": [
       "['https://kr.iherb.com/pr/California-Gold-Nutrition-Omega-800-Pharmaceutical-Grade-Fish-Oil-80-EPA-DHA-Triglyceride-Form-1000-mg-90-Fish-Gelatin-Softgels/85180\\n',\n",
       " 'https://kr.iherb.com/pr/California-Gold-Nutrition-Omega-800-Pharmaceutical-Grade-Fish-Oil-80-EPA-DHA-1-000-mg-30-Fish-Gelatin-Softgels/82845\\n',\n",
       " 'https://kr.iherb.com/pr/California-Gold-Nutrition-LactoBif-Probiotics-30-Billion-CFU-60-Veggie-Capsules/64009?rec=iherbtest-home\\n',\n",
       " 'https://kr.iherb.com/pr/PEAKfresh-USA-Produce-Bags-with-Twist-Ties-Reusable-10-Bags/44160\\n',\n",
       " 'https://kr.iherb.com/pr/California-Gold-Nutrition-Gold-C-Powder-Vitamin-C-1-000-mg-8-81-oz-250-g/59561\\n',\n",
       " 'https://kr.iherb.com/pr/Kosette-Sanitizer-Wipes-Alcohol-Free-20-Wipes/103742']"
      ]
     },
     "execution_count": 4,
     "metadata": {},
     "output_type": "execute_result"
    }
   ],
   "source": [
    "open_url()"
   ]
  },
  {
   "cell_type": "code",
   "execution_count": 11,
   "metadata": {},
   "outputs": [],
   "source": [
    "def get_driver(): \n",
    "    start = time.time()\n",
    "    content = open_url()\n",
    "    # selenum의 webdriver에 앞서 설치한 chromedirver를 연동한다.\n",
    "    driver = [webdriver.Chrome(chromedriver, options = webdriver_options ) for _ in content]\n",
    "    \n",
    "    # driver로 특정 페이지를 연다.\n",
    "    for i in  range (len(content)):\n",
    "        driver[i].get(content[i])\n",
    "    print(\"time :\", time.time() - start)\n",
    "    return (driver)"
   ]
  },
  {
   "cell_type": "code",
   "execution_count": 12,
   "metadata": {},
   "outputs": [
    {
     "name": "stdout",
     "output_type": "stream",
     "text": [
      "time : 0.0\n",
      "time : 33.44915175437927\n"
     ]
    },
    {
     "data": {
      "text/plain": [
       "[<selenium.webdriver.chrome.webdriver.WebDriver (session=\"35b618bdd4de8dd8425abee8f2916c99\")>,\n",
       " <selenium.webdriver.chrome.webdriver.WebDriver (session=\"c27f016468a8edae0046591133b5dddb\")>,\n",
       " <selenium.webdriver.chrome.webdriver.WebDriver (session=\"883915751d2d054c8ab7907d4f581d99\")>,\n",
       " <selenium.webdriver.chrome.webdriver.WebDriver (session=\"b6acd4280edea64269232f1fe04bb798\")>,\n",
       " <selenium.webdriver.chrome.webdriver.WebDriver (session=\"acf277559c1aea72cfdce8ffa84e2ab4\")>,\n",
       " <selenium.webdriver.chrome.webdriver.WebDriver (session=\"5b36719a2f210a3956255c4492b8ae79\")>]"
      ]
     },
     "execution_count": 12,
     "metadata": {},
     "output_type": "execute_result"
    }
   ],
   "source": [
    "get_driver()"
   ]
  },
  {
   "cell_type": "code",
   "execution_count": 10,
   "metadata": {},
   "outputs": [],
   "source": [
    "#상품의 고유 번호를 가져온다.   \n",
    "def get_name(): \n",
    "    start = time.time()\n",
    "    driver_list = get_driver()\n",
    "    name_list = list()\n",
    "    for i in driver_list:\n",
    "        name_list.append(i.find_element_by_css_selector(n_locate).text)\n",
    "    \n",
    "    print(\"time :\", time.time() - start)\n",
    "    return (name_list)"
   ]
  },
  {
   "cell_type": "code",
   "execution_count": 13,
   "metadata": {},
   "outputs": [
    {
     "name": "stdout",
     "output_type": "stream",
     "text": [
      "time : 0.0009984970092773438\n",
      "time : 40.62613534927368\n",
      "time : 42.413355112075806\n"
     ]
    },
    {
     "data": {
      "text/plain": [
       "['898220012664',\n",
       " 'CGN-01251',\n",
       " 'CGN-00965',\n",
       " '892453002003',\n",
       " 'CGN-00935',\n",
       " 'IMI-21029']"
      ]
     },
     "execution_count": 13,
     "metadata": {},
     "output_type": "execute_result"
    }
   ],
   "source": [
    "get_name()"
   ]
  },
  {
   "cell_type": "code",
   "execution_count": 14,
   "metadata": {},
   "outputs": [],
   "source": [
    "#상품의 재고 상황을 가져온다.\n",
    "def scrapping():\n",
    "    start = time.time()\n",
    "    status_list = list()\n",
    "    driver_list = get_driver()\n",
    "     \n",
    "    for i in driver_list:\n",
    "        try:\n",
    "            status_list.append(i.find_element_by_css_selector(locate).text)\n",
    "\n",
    "        except:\n",
    "                status_list.append('재고 있음')\n",
    "    print(\"time :\", time.time() - start)\n",
    "    return (status_list)"
   ]
  },
  {
   "cell_type": "code",
   "execution_count": 15,
   "metadata": {},
   "outputs": [
    {
     "name": "stdout",
     "output_type": "stream",
     "text": [
      "time : 0.0009980201721191406\n",
      "time : 51.99909448623657\n",
      "time : 53.05925965309143\n"
     ]
    },
    {
     "data": {
      "text/plain": [
       "['품절', '품절', '재고 있음', '재고 있음', '재고 있음', '재고 있음']"
      ]
     },
     "execution_count": 15,
     "metadata": {},
     "output_type": "execute_result"
    }
   ],
   "source": [
    "scrapping()"
   ]
  },
  {
   "cell_type": "code",
   "execution_count": 21,
   "metadata": {},
   "outputs": [],
   "source": [
    "# 워크북(엑셀파일)을 새로 만듭니다.\n",
    "wb = openpyxl.Workbook()\n",
    "\n",
    "sheet1 = wb['Sheet']\n",
    "\n",
    "# 고유번호 값을 가져온다. \n",
    "name_list = get_name()\n",
    "content = open_url()\n",
    "\n",
    "# 헤더를 추가한다. \n",
    "sheet1.append([\"날짜\", \"시간\"])\n",
    "sheet1.column_dimensions['A'].width = 15\n",
    "\n",
    "# 고유번호로 상품의 이름을 보여주고, 하이퍼링크를 통해 누르면 상품 사이트와 연결되도록 한다. \n",
    "for i in range (len(name_list)):\n",
    "    sheet1.cell(row=1, column=i+3).value = '=HYPERLINK(\"{}\", \"{}\")'.format(content[i], name_list[i])\n",
    "    sheet1.cell(row=1, column=i+3).style = \"Hyperlink\" # 하이퍼링크처럼 파란색으로 보여주는 코드\n",
    "\n",
    "wb.save('재고확인.xlsx')"
   ]
  },
  {
   "cell_type": "code",
   "execution_count": 20,
   "metadata": {},
   "outputs": [
    {
     "name": "stdout",
     "output_type": "stream",
     "text": [
      "scrapping ... \n",
      "time : 115.03667759895325\n",
      "scrapping ... \n",
      "time : 54.69095325469971\n",
      "scrapping ... \n",
      "Error\n"
     ]
    }
   ],
   "source": [
    "wb = openpyxl.load_workbook('재고확인.xlsx')\n",
    "status_list = list()\n",
    "\n",
    "while True:  \n",
    "    try:\n",
    "        start = time.time()\n",
    "        #시간 설정 \n",
    "        now = datetime.now()\n",
    "        date = \"%s년 %s월 %s일\" %(now.year, now.month, now.day)\n",
    "        hour = \"%s시 %s분\" %(now.hour, now.minute)\n",
    "\n",
    "        # 1분마다 \n",
    "        # scrapping 함수를 호출 \n",
    "        print(\"scrapping ... \")\n",
    "        status_list = scrapping()\n",
    "\n",
    "        sheet1 = wb.active\n",
    "        sheet1.append([date, hour])\n",
    "\n",
    "        # 각 셀에 상태 저장 \n",
    "        for i in range (len(status_list)):\n",
    "            if (status_list[i] == '품절'):\n",
    "                sheet1.cell(row=count+1, column=i+3).value = status_list[i]\n",
    "                sheet1.cell(row=count+1, column=i+3).fill = PatternFill(start_color='00FF0000', end_color='00FF0000', fill_type='solid')\n",
    "            elif (status_list[i] == '재고 있음'):\n",
    "                sheet1.cell(row=count+1, column=i+3).value = status_list[i]\n",
    "                sheet1.cell(row=count+1, column=i+3).fill = PatternFill(start_color='0099CC00', end_color='0099CC00', fill_type='solid')\n",
    "\n",
    "        #1분마다 정보를 갱신한다. \n",
    "        time.sleep(10) \n",
    "        count += 1 # 엑셀의 row를 위한 변수 \n",
    "        \n",
    "        wb.save('재고확인.xlsx')\n",
    "        print(\"time :\", time.time() - start)\n",
    "    except:\n",
    "        print(\"Error\")\n",
    "        break\n",
    "    \n",
    "\n",
    "    # 시트별로 나누는 거 말고 컬럼별로 해서 하나의 시트에서 만드는 걸로 생각해보기\n",
    "    # 함수화 하는 거 생각해보기 \n",
    "    # 변수 초기화 한 번에 하기 \n",
    "    # URL 파일 주기적으로 확인하기 "
   ]
  },
  {
   "cell_type": "code",
   "execution_count": null,
   "metadata": {},
   "outputs": [],
   "source": [
    "get_name()"
   ]
  }
 ],
 "metadata": {
  "kernelspec": {
   "display_name": "Python 3",
   "language": "python",
   "name": "python3"
  },
  "language_info": {
   "codemirror_mode": {
    "name": "ipython",
    "version": 3
   },
   "file_extension": ".py",
   "mimetype": "text/x-python",
   "name": "python",
   "nbconvert_exporter": "python",
   "pygments_lexer": "ipython3",
   "version": "3.7.1"
  }
 },
 "nbformat": 4,
 "nbformat_minor": 2
}
